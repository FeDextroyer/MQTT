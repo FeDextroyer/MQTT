{
  "cells": [
    {
      "cell_type": "markdown",
      "metadata": {
        "id": "view-in-github",
        "colab_type": "text"
      },
      "source": [
        "<a href=\"https://colab.research.google.com/github/FeDextroyer/MQTT/blob/master/Sample%20Extended.ipynb\" target=\"_parent\"><img src=\"https://colab.research.google.com/assets/colab-badge.svg\" alt=\"Open In Colab\"/></a>"
      ]
    },
    {
      "cell_type": "code",
      "source": [
        "!pip install paho-mqtt ipywidgets\n",
        "import paho.mqtt.client as paho\n",
        "import os\n",
        "import json\n",
        "import time\n",
        "from datetime import datetime\n",
        "import ipywidgets as widgets\n",
        "\n",
        "ACCESS_TOKEN='9NQB5mlMQVFbTYtcdoiV'\n",
        "broker=\"demo.thingsboard.io\"\n",
        "port=1883\n",
        "sensor_data = {'temperature': 0, 'humidity': 0, 'pressure': 0, 'luminosity': 0}\n",
        "\n",
        "def on_publish(client,userdata,result):\n",
        "    print(\"data published to thingsboard \\n\")\n",
        "    pass\n",
        "\n",
        "def update_sensor_data(change):\n",
        "    sensor_data[change['owner'].description] = change['new']\n",
        "    print(sensor_data)\n",
        "\n",
        "    payload = json.dumps(sensor_data)\n",
        "    ret = client1.publish(\"v1/devices/me/telemetry\", payload)\n",
        "    print(\"Please check LATEST TELEMETRY field of your device\")\n",
        "    print(payload)\n",
        "\n",
        "temperature_slider = widgets.FloatSlider(min=0, max=100, description='temperature', layout=widgets.Layout(width='50%'))\n",
        "humidity_slider = widgets.FloatSlider(min=0, max=100, description='humidity', layout=widgets.Layout(width='50%'))\n",
        "pressure_slider = widgets.FloatSlider(min=0, max=100, description='pressure', layout=widgets.Layout(width='50%'))\n",
        "luminosity_slider = widgets.FloatSlider(min=0, max=100, description='luminosity', layout=widgets.Layout(width='50%'))\n",
        "\n",
        "temperature_slider.observe(update_sensor_data, names='value')\n",
        "humidity_slider.observe(update_sensor_data, names='value')\n",
        "pressure_slider.observe(update_sensor_data, names='value')\n",
        "luminosity_slider.observe(update_sensor_data, names='value')\n",
        "\n",
        "display(temperature_slider)\n",
        "display(humidity_slider)\n",
        "display(pressure_slider)\n",
        "display(luminosity_slider)\n",
        "\n",
        "client1= paho.Client(\"control1\")\n",
        "client1.on_publish = on_publish\n",
        "client1.username_pw_set(ACCESS_TOKEN)\n",
        "client1.connect(broker,port,keepalive=60)\n",
        "\n",
        "while True:\n",
        "    client1.loop(0.1)\n",
        "    time.sleep(3)"
      ],
      "metadata": {
        "id": "WLa-0sZ--uqK",
        "outputId": "69b8995a-70d5-4740-e015-4d0fd8dac54f",
        "colab": {
          "base_uri": "https://localhost:8080/"
        }
      },
      "execution_count": 4,
      "outputs": [
        {
          "output_type": "stream",
          "name": "stdout",
          "text": [
            "Disconnected from Thingsboard\n",
            "{'temperature': 0.1, 'humidity': 0, 'pressure': 0, 'luminosity': 0}\n",
            "Please check LATEST TELEMETRY field of your device\n",
            "{\"temperature\": 0.1, \"humidity\": 0, \"pressure\": 0, \"luminosity\": 0}\n"
          ]
        }
      ]
    }
  ],
  "metadata": {
    "kernelspec": {
      "display_name": "Python 3",
      "language": "python",
      "name": "python3"
    },
    "colab": {
      "provenance": [],
      "include_colab_link": true
    }
  },
  "nbformat": 4,
  "nbformat_minor": 0
}