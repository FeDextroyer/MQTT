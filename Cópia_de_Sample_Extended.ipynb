{
  "cells": [
    {
      "cell_type": "markdown",
      "metadata": {
        "id": "view-in-github",
        "colab_type": "text"
      },
      "source": [
        "<a href=\"https://colab.research.google.com/github/FeDextroyer/MQTT/blob/master/C%C3%B3pia_de_Sample_Extended.ipynb\" target=\"_parent\"><img src=\"https://colab.research.google.com/assets/colab-badge.svg\" alt=\"Open In Colab\"/></a>"
      ]
    },
    {
      "cell_type": "code",
      "source": [
        "%pip install psutil\n",
        "%pip install paho-mqtt\n",
        "import psutil\n",
        "import platform\n",
        "\n",
        "info = {}\n",
        "platform_details = platform.platform()\n",
        "info[\"platform details\"] = platform_details\n",
        "system_name = platform.system()\n",
        "info[\"system name\"] = system_name\n",
        "processor_name = platform.processor()\n",
        "info[\"processor name\"] = processor_name\n",
        "architecture_details = platform.architecture()\n",
        "info[\"architectural detail\"] = architecture_details\n",
        "for i, j in info.items():\n",
        "\tprint(i, \" - \", j)\n",
        "\n",
        "print(psutil.cpu_freq())\n",
        "\n",
        "mem = psutil.virtual_memory()\n",
        "print(mem)\n",
        "print(mem[0])\n",
        "\n",
        "print(psutil.sensors_fans())\n",
        "print(psutil.pids())\n",
        "\n",
        "p = psutil.Process()\n",
        "# blocking\n",
        "p.cpu_percent(interval=None)\n",
        "print(p)\n",
        "\n",
        "import paho.mqtt.client as paho\n",
        "import os\n",
        "import json\n",
        "import time\n",
        "from datetime import datetime\n",
        "\n",
        "ACCESS_TOKEN='9NQB5mlMQVFbTYtcdoiV'\n",
        "broker=\"demo.thingsboard.io\"\n",
        "port=1883\n",
        "sensor_data = {'temperature': 0, 'humidity': 0, 'pressure': 0, 'luminosity': 0}\n",
        "def on_publish(client,userdata,result):\n",
        "    print(\"data published to thingsboard \\n\")\n",
        "    pass\n",
        "client1= paho.Client(\"control1\")\n",
        "client1.on_publish = on_publish\n",
        "client1.username_pw_set(ACCESS_TOKEN)\n",
        "client1.connect(broker,port,keepalive=60)\n",
        "humidity = 0\n",
        "temperature = 0\n",
        "pressure = 0\n",
        "luminosity = 0\n",
        "\n",
        "while True:\n",
        "\n",
        "   humidity = humidity + 1\n",
        "   temperature = mem[0]\n",
        "   print(u\"Temperatura: {:g}\\u00b0C, Umidade: {:g}%, Pressão: {:g}%, Luminosidade: {:g}%\".format(temperature, humidity, pressure, luminosity))\n",
        "   sensor_data['temperature'] = temperature\n",
        "   sensor_data['humidity'] = humidity\n",
        "   ret= client1.publish(\"v1/devices/me/telemetry\",json.dumps(sensor_data),1)\n",
        "   print(\"Please check LATEST TELEMETRY field of your device\")\n",
        "   print(sensor_data);\n",
        "   time.sleep(5)"
      ],
      "metadata": {
        "id": "WLa-0sZ--uqK",
        "outputId": "33e88c65-8e76-4793-e6a8-96284e40d10d",
        "colab": {
          "base_uri": "https://localhost:8080/"
        }
      },
      "execution_count": null,
      "outputs": [
        {
          "output_type": "stream",
          "name": "stdout",
          "text": [
            "Looking in indexes: https://pypi.org/simple, https://us-python.pkg.dev/colab-wheels/public/simple/\n",
            "Requirement already satisfied: psutil in /usr/local/lib/python3.9/dist-packages (5.9.4)\n",
            "Looking in indexes: https://pypi.org/simple, https://us-python.pkg.dev/colab-wheels/public/simple/\n",
            "Collecting paho-mqtt\n",
            "  Downloading paho-mqtt-1.6.1.tar.gz (99 kB)\n",
            "\u001b[2K     \u001b[90m━━━━━━━━━━━━━━━━━━━━━━━━━━━━━━━━━━━━━━━━\u001b[0m \u001b[32m99.4/99.4 KB\u001b[0m \u001b[31m2.7 MB/s\u001b[0m eta \u001b[36m0:00:00\u001b[0m\n",
            "\u001b[?25h  Preparing metadata (setup.py) ... \u001b[?25l\u001b[?25hdone\n",
            "Building wheels for collected packages: paho-mqtt\n",
            "  Building wheel for paho-mqtt (setup.py) ... \u001b[?25l\u001b[?25hdone\n",
            "  Created wheel for paho-mqtt: filename=paho_mqtt-1.6.1-py3-none-any.whl size=62135 sha256=19589978252763b2b5b03ee2b48505cbf024180e22473f785108f9e6eba37c59\n",
            "  Stored in directory: /root/.cache/pip/wheels/0f/90/29/db29bb8ddc98ec5f2363b959130c9ddbcf5cfdb4a00b6184dd\n",
            "Successfully built paho-mqtt\n",
            "Installing collected packages: paho-mqtt\n",
            "Successfully installed paho-mqtt-1.6.1\n",
            "platform details  -  Linux-5.10.147+-x86_64-with-glibc2.31\n",
            "system name  -  Linux\n",
            "processor name  -  x86_64\n",
            "architectural detail  -  ('64bit', 'ELF')\n",
            "scpufreq(current=2199.998, min=0.0, max=0.0)\n",
            "svmem(total=13616332800, available=12615159808, percent=7.4, used=687259648, free=8358703104, active=600694784, inactive=4400230400, buffers=329469952, cached=4240900096, shared=1404928, slab=182960128)\n",
            "13616332800\n",
            "{}\n",
            "[1, 7, 18, 29, 31, 33, 58, 59, 80, 81, 303, 342, 377, 493]\n",
            "psutil.Process(pid=303, name='python3', status='running', started='23:12:28')\n",
            "Temperatura: 1.36163e+10°C, Umidade: 1%, Pressão: 0%, Luminosidade: 0%\n",
            "Please check LATEST TELEMETRY field of your device\n",
            "{'temperature': 13616332800, 'humidity': 1, 'pressure': 0, 'luminosity': 0}\n",
            "Temperatura: 1.36163e+10°C, Umidade: 2%, Pressão: 0%, Luminosidade: 0%\n",
            "Please check LATEST TELEMETRY field of your device\n",
            "{'temperature': 13616332800, 'humidity': 2, 'pressure': 0, 'luminosity': 0}\n",
            "Temperatura: 1.36163e+10°C, Umidade: 3%, Pressão: 0%, Luminosidade: 0%\n",
            "Please check LATEST TELEMETRY field of your device\n",
            "{'temperature': 13616332800, 'humidity': 3, 'pressure': 0, 'luminosity': 0}\n",
            "Temperatura: 1.36163e+10°C, Umidade: 4%, Pressão: 0%, Luminosidade: 0%\n",
            "Please check LATEST TELEMETRY field of your device\n",
            "{'temperature': 13616332800, 'humidity': 4, 'pressure': 0, 'luminosity': 0}\n",
            "Temperatura: 1.36163e+10°C, Umidade: 5%, Pressão: 0%, Luminosidade: 0%\n",
            "Please check LATEST TELEMETRY field of your device\n",
            "{'temperature': 13616332800, 'humidity': 5, 'pressure': 0, 'luminosity': 0}\n",
            "Temperatura: 1.36163e+10°C, Umidade: 6%, Pressão: 0%, Luminosidade: 0%\n",
            "Please check LATEST TELEMETRY field of your device\n",
            "{'temperature': 13616332800, 'humidity': 6, 'pressure': 0, 'luminosity': 0}\n"
          ]
        }
      ]
    }
  ],
  "metadata": {
    "kernelspec": {
      "display_name": "Python 3",
      "language": "python",
      "name": "python3"
    },
    "colab": {
      "provenance": [],
      "include_colab_link": true
    }
  },
  "nbformat": 4,
  "nbformat_minor": 0
}